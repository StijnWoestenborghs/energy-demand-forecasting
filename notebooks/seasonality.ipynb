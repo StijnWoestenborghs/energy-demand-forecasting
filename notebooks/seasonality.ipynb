{
 "cells": [
  {
   "cell_type": "code",
   "execution_count": null,
   "id": "9e5b4e33",
   "metadata": {},
   "outputs": [],
   "source": [
    "import os, sys\n",
    "import pandas as pd\n",
    "import numpy as np\n",
    "import matplotlib.pyplot as plt\n",
    "from datetime import datetime, timedelta\n",
    "\n",
    "import warnings\n",
    "warnings.simplefilter(\"ignore\", UserWarning)\n",
    "\n",
    "sys.path.insert(0, '../src/prep')\n",
    "from preprocess import load_data, cleanup"
   ]
  },
  {
   "cell_type": "markdown",
   "id": "b6cb05c7",
   "metadata": {},
   "source": [
    "## Load data & preprocess"
   ]
  },
  {
   "cell_type": "code",
   "execution_count": null,
   "id": "f2a7dc4f",
   "metadata": {},
   "outputs": [],
   "source": [
    "file = '../src/data/LD2011_2014.txt'\n",
    "data = load_data(file, hh_start=0, hh_end=-1, start='2012-01-01 00:15:00', stop=\"2014-01-01 00:00:00\")\n",
    "data = cleanup(data)"
   ]
  },
  {
   "cell_type": "code",
   "execution_count": null,
   "id": "c636fadf",
   "metadata": {},
   "outputs": [],
   "source": [
    "data[\"average\"] = data.mean(axis=1)"
   ]
  },
  {
   "cell_type": "code",
   "execution_count": null,
   "id": "f880d602",
   "metadata": {},
   "outputs": [],
   "source": [
    "data[\"week\"] = np.array(pd.Series(data.index.to_pydatetime()).dt.isocalendar().week)\n",
    "data[\"year\"] = np.array(pd.Series(data.index.to_pydatetime()).dt.isocalendar().year)\n",
    "data[\"day_of_week\"] = np.array(pd.Series(data.index.to_pydatetime()).dt.isocalendar().day)\n",
    "data[\"unique_week\"] = data[\"week\"] + 52 * (data[\"year\"] - 2012)"
   ]
  },
  {
   "cell_type": "code",
   "execution_count": null,
   "id": "22847282",
   "metadata": {},
   "outputs": [],
   "source": [
    "data"
   ]
  },
  {
   "cell_type": "code",
   "execution_count": null,
   "id": "84e1d338",
   "metadata": {},
   "outputs": [],
   "source": []
  },
  {
   "cell_type": "code",
   "execution_count": null,
   "id": "fcff1baf",
   "metadata": {},
   "outputs": [],
   "source": []
  },
  {
   "cell_type": "markdown",
   "id": "a3ab93dc",
   "metadata": {},
   "source": [
    "# Plot seasonality"
   ]
  },
  {
   "cell_type": "code",
   "execution_count": null,
   "id": "3a6be6a7",
   "metadata": {},
   "outputs": [],
   "source": [
    "def plot_seasonality(times, matrix, first_week):\n",
    "    xi = times   \n",
    "    yi = np.linspace(1, np.shape(matrix)[1], np.shape(matrix)[1]).astype(int)\n",
    "    \n",
    "    fig, ax = plt.subplots(nrows=1, ncols=1, figsize=(15, 10))\n",
    "    \n",
    "    ax.contour(xi, yi, np.transpose(matrix), levels=range(0, 50), linewidths=0., colors='k')\n",
    "                \n",
    "    cntr1 = ax.contourf(xi, yi, np.transpose(matrix), levels=np.shape(matrix)[1], cmap=\"RdBu_r\")\n",
    "    fig.colorbar(cntr1, ax=ax, shrink=1, label=\"Electricity Consumption [kW]\")\n",
    "    \n",
    "    ax.set_title(\"Consumption\")\n",
    "    ax.set_ylabel(\"Week\", fontsize=10)\n",
    "    ax.set_xlabel(\"time\", fontsize=10)\n",
    "    \n",
    "    # xticks\n",
    "    weekday = [\"Mo\", \"Tu\", \"We\", \"Thu\", \"Fri\", \"Sa\", \"Su\"]\n",
    "    week = [datetime(year=2000, month=1, day=3, minute=0) + timedelta(minutes=i*15) for i in range(quarters_in_week)]\n",
    "    custom_ticks = range(0, quarters_in_week, 48)    \n",
    "    timestamps = [f\"{weekday[week[t].weekday()]}\\n{week[t].hour}:{week[t].minute}\" for t in custom_ticks]    \n",
    "    ax.set_xticklabels(timestamps)\n",
    "    ax.set_xticks(custom_ticks)\n",
    "    \n",
    "    # y_ticks\n",
    "    r = [datetime.strptime(f\"2012-W{i}\" + \"-1\", \"%Y-W%W-%w\").month - 1 for i in range(1, 52+1)]\n",
    "    months = [\"jan\", \"feb\", \"mar\", \"apr\", \"may\", \"jun\", \"jul\", \"aug\", \"sep\", \"okt\", \"nov\", \"dec\"]\n",
    "    custom_yticks = range(1, 1+np.shape(matrix)[1], 2)   \n",
    "    custom_ylabels = [months[r[(first_week+w-2)%52]] for w in custom_yticks]    \n",
    "    ax.set_yticklabels(custom_ylabels)\n",
    "    ax.set_yticks(custom_yticks)\n",
    "    \n",
    "    plt.show()"
   ]
  },
  {
   "cell_type": "code",
   "execution_count": null,
   "id": "9d4d5f8b",
   "metadata": {},
   "outputs": [],
   "source": [
    "# number of quarters in a week\n",
    "quarters_in_week = 4*24*7\n",
    "\n",
    "# Weekly consumption matrix per specific year\n",
    "matrix = []\n",
    "for i in np.unique(data[\"unique_week\"]):\n",
    "    matrix += [np.array(data[data[\"unique_week\"] == i][\"average\"])]\n",
    "\n",
    "# fill zeros to the beginning and end of the weekly matrix if not complete\n",
    "matrix[0] = np.append(np.zeros(quarters_in_week - len(matrix[0])), matrix[0])\n",
    "matrix[-1] = np.append(matrix[-1], np.zeros(quarters_in_week - len(matrix[-1])))\n",
    "\n",
    "# plot seasonality\n",
    "times = range(quarters_in_week)\n",
    "plot_seasonality(times, np.transpose(matrix), first_week = min(data_year[\"unique_week\"]))"
   ]
  },
  {
   "cell_type": "code",
   "execution_count": null,
   "id": "a8317da9",
   "metadata": {},
   "outputs": [],
   "source": []
  },
  {
   "cell_type": "code",
   "execution_count": null,
   "id": "d4e7d6ff",
   "metadata": {},
   "outputs": [],
   "source": []
  },
  {
   "cell_type": "code",
   "execution_count": null,
   "id": "3ea3c7a3",
   "metadata": {},
   "outputs": [],
   "source": []
  },
  {
   "cell_type": "code",
   "execution_count": null,
   "id": "cc8f5b36",
   "metadata": {},
   "outputs": [],
   "source": []
  }
 ],
 "metadata": {
  "kernelspec": {
   "display_name": "Python 3 (ipykernel)",
   "language": "python",
   "name": "python3"
  },
  "language_info": {
   "codemirror_mode": {
    "name": "ipython",
    "version": 3
   },
   "file_extension": ".py",
   "mimetype": "text/x-python",
   "name": "python",
   "nbconvert_exporter": "python",
   "pygments_lexer": "ipython3",
   "version": "3.8.10"
  }
 },
 "nbformat": 4,
 "nbformat_minor": 5
}
